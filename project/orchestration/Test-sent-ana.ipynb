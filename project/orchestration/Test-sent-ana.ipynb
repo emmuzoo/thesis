{
 "cells": [
  {
   "cell_type": "code",
   "execution_count": 10,
   "id": "1c30011b-5262-4be0-a6b3-3965724b6334",
   "metadata": {},
   "outputs": [],
   "source": [
    "from pprint import pprint\n",
    "import mlflow\n",
    "from mlflow.models import infer_signature\n",
    "from mlflow.entities import ViewType\n",
    "from mlflow.tracking import MlflowClient\n",
    "import boto3"
   ]
  },
  {
   "cell_type": "code",
   "execution_count": null,
   "id": "93ebaf63-dce1-4740-9c67-19ebd7e0c43c",
   "metadata": {},
   "outputs": [],
   "source": [
    "S3_BUCKET_NAME="
   ]
  },
  {
   "cell_type": "code",
   "execution_count": null,
   "id": "7383077b-905e-4a02-949e-dc8860bfea60",
   "metadata": {},
   "outputs": [],
   "source": [
    "s3 = boto3.client('s3')\n",
    "vectorizer_path = '/tmp/tfidf_vectorizer.pkl'\n",
    "s3.download_file(S3_BUCKET_NAME, VECTORIZER_KEY, vectorizer_path)\n"
   ]
  },
  {
   "cell_type": "code",
   "execution_count": 2,
   "id": "cc917163-c375-4d5b-b59e-a4861619be79",
   "metadata": {},
   "outputs": [],
   "source": [
    "tracking_uri=\"http://127.0.0.1:5001\"\n",
    "mlflow.set_tracking_uri(tracking_uri)\n",
    "client = MlflowClient(tracking_uri=tracking_uri)"
   ]
  },
  {
   "cell_type": "code",
   "execution_count": 3,
   "id": "540ac896-e6a8-4518-a6f6-ed3b95807b0d",
   "metadata": {},
   "outputs": [],
   "source": [
    "for rm in client.search_registered_models():\n",
    "    pprint(dict(rm), indent=4)"
   ]
  },
  {
   "cell_type": "code",
   "execution_count": 12,
   "id": "ed3d39e8-2b97-4a7b-adf2-2227c951b5ba",
   "metadata": {},
   "outputs": [
    {
     "data": {
      "text/plain": [
       "<Experiment: artifact_location='s3://mflow-artifacts-381491831545/artifacts_dest/2', creation_time=1723329149934, experiment_id='2', last_update_time=1723329149934, lifecycle_stage='active', name='sent-analisis-xgboost-best-models', tags={}>"
      ]
     },
     "execution_count": 12,
     "metadata": {},
     "output_type": "execute_result"
    }
   ],
   "source": [
    "experiment_name = \"sent-analisis-xgboost-best-models\"\n",
    "experiment = mlflow.get_experiment_by_name(experiment_name)\n",
    "experiment"
   ]
  },
  {
   "cell_type": "code",
   "execution_count": 6,
   "id": "e7da3979-82d3-4353-b5a2-2a9cf161d95d",
   "metadata": {},
   "outputs": [
    {
     "name": "stdout",
     "output_type": "stream",
     "text": [
      "2\n"
     ]
    }
   ],
   "source": [
    "print(experiment.experiment_id)"
   ]
  },
  {
   "cell_type": "code",
   "execution_count": 7,
   "id": "9782cee3-39fc-41d1-b2bd-6e9acde12867",
   "metadata": {},
   "outputs": [],
   "source": [
    "model_name = \"xgboost-model\"\n",
    "experiment_id = experiment.experiment_id\n",
    "top_n = 2\n",
    "best_run = client.search_runs(\n",
    "            experiment_ids=experiment_id,\n",
    "            run_view_type=ViewType.ACTIVE_ONLY,\n",
    "            max_results=top_n,\n",
    "            order_by=[\"metrics.test_accuracy ASC\"]\n",
    "        )[0]"
   ]
  },
  {
   "cell_type": "code",
   "execution_count": 16,
   "id": "dba3f93c-9ae1-4b44-bf7c-6e1ad6bd3901",
   "metadata": {},
   "outputs": [
    {
     "data": {
      "text/plain": [
       "<Run: data=<RunData: metrics={'logloss': 0.5409361193588802,\n",
       " 'test_accuracy': 0.7512,\n",
       " 'test_recall': 0.8576,\n",
       " 'val_accuracy': 0.7578285714285714,\n",
       " 'val_recall': 0.8559130040779338}, params={'alpha': '0.15354745251031074',\n",
       " 'colsample_bytree': '0.776396161750482',\n",
       " 'eta': '0.016107725717848798',\n",
       " 'eval_metric': 'logloss',\n",
       " 'lambda': '2.608417599772995e-08',\n",
       " 'max_depth': '6',\n",
       " 'objective': 'binary:logistic',\n",
       " 'subsample': '0.6613083555020394'}, tags={'mlflow.log-model.history': '[{\"run_id\": \"bc13c5dcbc6d4d9a8ef66ebfd5d8724a\", '\n",
       "                             '\"artifact_path\": \"model\", \"utc_time_created\": '\n",
       "                             '\"2024-08-10 00:12:33.950712\", \"flavors\": '\n",
       "                             '{\"python_function\": {\"loader_module\": '\n",
       "                             '\"mlflow.xgboost\", \"python_version\": \"3.10.13\", '\n",
       "                             '\"data\": \"model.xgb\", \"env\": {\"conda\": '\n",
       "                             '\"conda.yaml\", \"virtualenv\": \"python_env.yaml\"}}, '\n",
       "                             '\"xgboost\": {\"xgb_version\": \"1.7.6\", \"data\": '\n",
       "                             '\"model.xgb\", \"model_class\": '\n",
       "                             '\"xgboost.core.Booster\", \"model_format\": \"xgb\", '\n",
       "                             '\"code\": null}}, \"model_uuid\": '\n",
       "                             '\"18920d79a83b4f4eb6f71e55c7ab0703\", '\n",
       "                             '\"mlflow_version\": \"2.15.1\", \"signature\": '\n",
       "                             '{\"inputs\": \"[{\\\\\"type\\\\\": \\\\\"tensor\\\\\", '\n",
       "                             '\\\\\"tensor-spec\\\\\": {\\\\\"dtype\\\\\": \\\\\"float64\\\\\", '\n",
       "                             '\\\\\"shape\\\\\": [-1, 5000]}}]\", \"outputs\": '\n",
       "                             '\"[{\\\\\"type\\\\\": \\\\\"tensor\\\\\", \\\\\"tensor-spec\\\\\": '\n",
       "                             '{\\\\\"dtype\\\\\": \\\\\"float32\\\\\", \\\\\"shape\\\\\": '\n",
       "                             '[-1]}}]\", \"params\": null}, \"model_size_bytes\": '\n",
       "                             '320165}]',\n",
       " 'mlflow.runName': 'Test register',\n",
       " 'mlflow.source.name': '/usr/local/python/3.10.13/lib/python3.10/site-packages/prefect/engine.py',\n",
       " 'mlflow.source.type': 'LOCAL',\n",
       " 'mlflow.user': 'codespace'}>, info=<RunInfo: artifact_uri='/workspaces/mlops-zoomcamp/project/framework/mlflow/artifacts/2/bc13c5dcbc6d4d9a8ef66ebfd5d8724a/artifacts', end_time=1723248776527, experiment_id='2', lifecycle_stage='active', run_id='bc13c5dcbc6d4d9a8ef66ebfd5d8724a', run_name='Test register', run_uuid='bc13c5dcbc6d4d9a8ef66ebfd5d8724a', start_time=1723248619681, status='FINISHED', user_id='codespace'>, inputs=<RunInputs: dataset_inputs=[]>>"
      ]
     },
     "execution_count": 16,
     "metadata": {},
     "output_type": "execute_result"
    }
   ],
   "source": [
    "best_run"
   ]
  },
  {
   "cell_type": "code",
   "execution_count": 31,
   "id": "ac63d489-b251-4352-96f9-d2c66585c7e8",
   "metadata": {},
   "outputs": [],
   "source": [
    "filter_string = f\"name='{model_name}'\"\n",
    "model_versions = client.search_model_versions(filter_string, max_results=1)"
   ]
  },
  {
   "cell_type": "code",
   "execution_count": 32,
   "id": "df3831b9-9713-447c-8951-a27dc6180cc9",
   "metadata": {},
   "outputs": [],
   "source": [
    "last_version = model_versions[0]"
   ]
  },
  {
   "cell_type": "code",
   "execution_count": 34,
   "id": "f0d56648-0c25-444a-8415-d65a1f39b2f4",
   "metadata": {},
   "outputs": [
    {
     "data": {
      "text/plain": [
       "'1'"
      ]
     },
     "execution_count": 34,
     "metadata": {},
     "output_type": "execute_result"
    }
   ],
   "source": [
    "last_version.version"
   ]
  },
  {
   "cell_type": "code",
   "execution_count": 8,
   "id": "aff0cb86-412c-4221-af31-48e4e4c4127f",
   "metadata": {},
   "outputs": [
    {
     "name": "stderr",
     "output_type": "stream",
     "text": [
      "Registered model 'xgboost-model' already exists. Creating a new version of this model...\n",
      "2024/08/11 00:35:56 INFO mlflow.store.model_registry.abstract_store: Waiting up to 300 seconds for model version to finish creation. Model name: xgboost-model, version 3\n",
      "Created version '3' of model 'xgboost-model'.\n"
     ]
    },
    {
     "data": {
      "text/plain": [
       "<ModelVersion: aliases=[], creation_timestamp=1723336556442, current_stage='None', description='', last_updated_timestamp=1723336556442, name='xgboost-model', run_id='272a4fe00a35480fa413e77aea487432', run_link='', source='s3://mflow-artifacts-975050210764/artifacts/2/272a4fe00a35480fa413e77aea487432/artifacts/model', status='READY', status_message='', tags={}, user_id='', version='3'>"
      ]
     },
     "execution_count": 8,
     "metadata": {},
     "output_type": "execute_result"
    }
   ],
   "source": [
    "#run_id = \"25d4c35e52ab442da3b68050a07a8e41\"\n",
    "#run_id = \"3b58ce4917294f689105ce482d11a25f\"\n",
    "#run_id = \"272a4fe00a35480fa413e77aea487432\"\n",
    "run_id = \"a7103a297c9247cd8a034e01b0a4d490\"\n",
    "model_info = mlflow.register_model(\n",
    "            model_uri=f\"runs:/{run_id}/model\",\n",
    "            name=\"xgboost-model\"\n",
    "        )"
   ]
  },
  {
   "cell_type": "code",
   "execution_count": 9,
   "id": "f26831a2-318a-4e36-85ac-f4e0c806d37b",
   "metadata": {},
   "outputs": [
    {
     "name": "stdout",
     "output_type": "stream",
     "text": [
      "{   'aliases': {},\n",
      "    'creation_timestamp': 1723336443325,\n",
      "    'description': '',\n",
      "    'last_updated_timestamp': 1723336556442,\n",
      "    'latest_versions': [   <ModelVersion: aliases=[], creation_timestamp=1723336556442, current_stage='None', description='', last_updated_timestamp=1723336556442, name='xgboost-model', run_id='272a4fe00a35480fa413e77aea487432', run_link='', source='s3://mflow-artifacts-975050210764/artifacts/2/272a4fe00a35480fa413e77aea487432/artifacts/model', status='READY', status_message='', tags={}, user_id='', version='3'>],\n",
      "    'name': 'xgboost-model',\n",
      "    'tags': {}}\n"
     ]
    }
   ],
   "source": [
    "for rm in client.search_registered_models():\n",
    "    pprint(dict(rm), indent=4)"
   ]
  },
  {
   "cell_type": "code",
   "execution_count": 15,
   "id": "a72c939a-b7d6-4fdb-83ec-732f1d67019a",
   "metadata": {},
   "outputs": [],
   "source": [
    "# Nombre del modelo registrado\n",
    "model_name = \"xgboost-model\"\n",
    "\n",
    "# Obtener todas las versiones del modelo registrado\n",
    "model_versions = client.search_model_versions(f\"name='{model_name}'\", max_results=1)"
   ]
  },
  {
   "cell_type": "code",
   "execution_count": 18,
   "id": "d8a78b02-9f32-4a7b-9c83-d9c1d2cd288b",
   "metadata": {},
   "outputs": [
    {
     "data": {
      "text/plain": [
       "'3'"
      ]
     },
     "execution_count": 18,
     "metadata": {},
     "output_type": "execute_result"
    }
   ],
   "source": [
    "model_versions[0].version"
   ]
  },
  {
   "cell_type": "code",
   "execution_count": 20,
   "id": "41d77711-2007-4709-aed5-5391e86db2f3",
   "metadata": {},
   "outputs": [],
   "source": [
    "alias=\"production\""
   ]
  },
  {
   "cell_type": "code",
   "execution_count": 21,
   "id": "48589bb8-9409-4f6c-b387-b45470e2114f",
   "metadata": {},
   "outputs": [],
   "source": [
    "\n",
    "client.set_registered_model_alias(model_name, alias, model_versions[0].version)"
   ]
  },
  {
   "cell_type": "code",
   "execution_count": null,
   "id": "71f1972b-d957-4d06-8e44-e48f96f88d1b",
   "metadata": {},
   "outputs": [],
   "source": [
    "def promote_best_model(model_name,  tracking_uri=\"http://127.0.0.1:5000\"):\n",
    "    new_stage = \"Production\"\n",
    "    client = MlflowClient(tracking_uri=tracking_uri)\n",
    "    model_versions = client.search_model_versions(f\"name='{model_name}'\", \n",
    "                                                  max_results=1)\n",
    "    # create \"champion\" alias for version 1 of model \"example-model\"\n",
    "    client.set_registered_model_alias(model_name, alias, 1)"
   ]
  }
 ],
 "metadata": {
  "kernelspec": {
   "display_name": "Python 3 (ipykernel)",
   "language": "python",
   "name": "python3"
  },
  "language_info": {
   "codemirror_mode": {
    "name": "ipython",
    "version": 3
   },
   "file_extension": ".py",
   "mimetype": "text/x-python",
   "name": "python",
   "nbconvert_exporter": "python",
   "pygments_lexer": "ipython3",
   "version": "3.10.13"
  }
 },
 "nbformat": 4,
 "nbformat_minor": 5
}
