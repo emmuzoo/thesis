{
 "cells": [
  {
   "cell_type": "code",
   "execution_count": 1,
   "id": "05409161-eea4-48c4-aeec-72ed2272f1a1",
   "metadata": {},
   "outputs": [],
   "source": [
    "import pandas as pd\n",
    "import joblib\n",
    "import os"
   ]
  },
  {
   "cell_type": "code",
   "execution_count": 4,
   "id": "b979fa2c-3bb6-4513-82d6-2a30acd781e7",
   "metadata": {},
   "outputs": [],
   "source": [
    "df = pd.read_parquet('processed_data.parquet')"
   ]
  },
  {
   "cell_type": "code",
   "execution_count": 5,
   "id": "2ee9c31b-fe8e-477f-b0c0-3bff53a97293",
   "metadata": {},
   "outputs": [
    {
     "data": {
      "text/plain": [
       "array(['YEAR', 'MONTH', 'DAY', 'DAY_OF_WEEK', 'AIRLINE', 'ORIGIN_AIRPORT',\n",
       "       'DESTINATION_AIRPORT', 'SCHEDULED_TIME', 'ELAPSED_TIME',\n",
       "       'DISTANCE', 'SCHEDULED_DEPARTURE', 'DEPARTURE_TIME',\n",
       "       'DEPARTURE_DELAY', 'SCHEDULED_ARRIVAL', 'ARRIVAL_TIME',\n",
       "       'ARRIVAL_DELAY', 'CANCELLATION_REASON', 'SCHEDULED_FLIGHT_TIME',\n",
       "       'ACTUAL_FLIGHT_TIME', 'HOUR', 'DELAY'], dtype=object)"
      ]
     },
     "execution_count": 5,
     "metadata": {},
     "output_type": "execute_result"
    }
   ],
   "source": [
    "df.columns.values"
   ]
  },
  {
   "cell_type": "code",
   "execution_count": 8,
   "id": "b19e42d7-5cb1-4acf-ae90-225636ff1700",
   "metadata": {},
   "outputs": [],
   "source": [
    "def split(raw_data_path, dest_path):\n",
    "    df = pd.read_parquet(raw_data_path)\n",
    "\n",
    "    # Reference\n",
    "    df_ref   = df[df['SCHEDULED_DEPARTURE'].dt.month == 11]\n",
    "    joblib.dump(df_ref, os.path.join(dest_path, \"ref.pkl\"))\n",
    "\n",
    "    COLUMNS = ['SCHEDULED_DEPARTURE','MONTH', 'DAY', 'DAY_OF_WEEK', 'HOUR', \n",
    "           'AIRLINE', 'ORIGIN_AIRPORT', 'DESTINATION_AIRPORT',\n",
    "           'SCHEDULED_FLIGHT_TIME', 'DISTANCE', \n",
    "           'DELAY']\n",
    "    df = df[COLUMNS]\n",
    "\n",
    "    df_train = df[df['SCHEDULED_DEPARTURE'].dt.month < 9]\n",
    "    df_val   = df[df['SCHEDULED_DEPARTURE'].dt.month == 9]\n",
    "    df_test  = df[df['SCHEDULED_DEPARTURE'].dt.month == 10]\n",
    "    \n",
    "    \n",
    "    # Training\n",
    "    X_train = df_train.drop(['SCHEDULED_DEPARTURE','DELAY'], axis=1)\n",
    "    y_train = df_train['DELAY']\n",
    "    # Validation\n",
    "    X_val = df_val.drop(['SCHEDULED_DEPARTURE', 'DELAY'], axis=1)\n",
    "    y_val = df_val['DELAY']\n",
    "    # Test\n",
    "    X_test = df_test.drop(['SCHEDULED_DEPARTURE', 'DELAY'], axis=1)\n",
    "    y_test = df_test['DELAY']\n",
    "    # Reference\n",
    "    #X_ref = df_ref.drop(['SCHEDULED_DEPARTURE', 'DELAY'], axis=1)\n",
    "    #y_ref = df_ref['DELAY']\n",
    "    \n",
    "    #joblib.dump((X, y), os.path.join(dest_path, \"clean_data.pkl\"))\n",
    "    joblib.dump((X_train, y_train), os.path.join(dest_path, \"train.pkl\"))\n",
    "    joblib.dump((X_val, y_val), os.path.join(dest_path, \"val.pkl\"))\n",
    "    joblib.dump((X_test, y_test), os.path.join(dest_path, \"test.pkl\"))\n",
    "    "
   ]
  },
  {
   "cell_type": "code",
   "execution_count": 9,
   "id": "d523c44c-ccd1-4691-bf2d-eaa88a855284",
   "metadata": {},
   "outputs": [],
   "source": [
    "raw_data_path = 'processed_data.parquet'\n",
    "dest_path = \"./\"\n",
    "split(raw_data_path, dest_path)"
   ]
  },
  {
   "cell_type": "code",
   "execution_count": 10,
   "id": "8359247e-0c48-409f-b3bc-3614b06315cf",
   "metadata": {},
   "outputs": [
    {
     "name": "stdout",
     "output_type": "stream",
     "text": [
      "total 644M\n",
      "-rw-rw-rw- 1 codespace codespace 4.8K Aug 15 23:54 Frontend.ipynb\n",
      "-rw-rw-rw- 1 codespace codespace    0 Aug 15 23:36 app.py\n",
      "-rw-rw-rw- 1 codespace codespace 112M Aug 15 23:45 processed_data.parquet\n",
      "-rw-rw-rw- 1 codespace codespace  76M Aug 15 23:54 ref.pkl\n",
      "-rw-rw-rw- 1 codespace codespace    9 Aug 15 23:40 requirements.txt\n",
      "-rwxrw-rw- 1 codespace codespace   22 Aug 15 23:41 run.sh\n",
      "-rw-rw-rw- 1 codespace codespace  47M Aug 15 23:54 test.pkl\n",
      "-rw-rw-rw- 1 codespace codespace 366M Aug 15 23:54 train.pkl\n",
      "-rw-rw-rw- 1 codespace codespace  45M Aug 15 23:54 val.pkl\n"
     ]
    }
   ],
   "source": [
    "!ls -lh "
   ]
  },
  {
   "cell_type": "code",
   "execution_count": null,
   "id": "22b0ba2a-a2b2-48a4-9797-564dc3d3bbdc",
   "metadata": {},
   "outputs": [],
   "source": []
  }
 ],
 "metadata": {
  "kernelspec": {
   "display_name": "Python 3 (ipykernel)",
   "language": "python",
   "name": "python3"
  },
  "language_info": {
   "codemirror_mode": {
    "name": "ipython",
    "version": 3
   },
   "file_extension": ".py",
   "mimetype": "text/x-python",
   "name": "python",
   "nbconvert_exporter": "python",
   "pygments_lexer": "ipython3",
   "version": "3.10.13"
  }
 },
 "nbformat": 4,
 "nbformat_minor": 5
}
